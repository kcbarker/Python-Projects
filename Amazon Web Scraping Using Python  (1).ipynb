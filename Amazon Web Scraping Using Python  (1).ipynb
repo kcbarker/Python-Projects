{
 "cells": [
  {
   "cell_type": "code",
   "execution_count": 1,
   "id": "c7ec0b59",
   "metadata": {},
   "outputs": [],
   "source": [
    "#import libraries \n",
    "\n",
    "from bs4 import BeautifulSoup\n",
    "import requests\n",
    "import time\n",
    "import datetime"
   ]
  },
  {
   "cell_type": "code",
   "execution_count": 50,
   "id": "4c96c21a",
   "metadata": {},
   "outputs": [
    {
     "name": "stdout",
     "output_type": "stream",
     "text": [
      "\n",
      "\n",
      "              Funny Data Analyst Definition Halloween Data Scientist Gift T-Shirt\n",
      "             \n",
      "\n",
      "\n",
      "\n",
      "\n",
      "\n",
      "\n",
      "               £17.95\n",
      "              \n",
      "\n",
      "\n",
      "                £\n",
      "               \n",
      "\n",
      "                17\n",
      "                \n",
      "                 .\n",
      "                \n",
      "\n",
      "\n",
      "                95\n",
      "               \n",
      "\n",
      "\n",
      "\n",
      "\n",
      "\n",
      "\n",
      "\n",
      "\n",
      "\n",
      "\n",
      "\n",
      "\n"
     ]
    }
   ],
   "source": [
    "# Connect to Website and pull in data\n",
    "\n",
    "URL = 'https://www.amazon.co.uk/Data-Analyst-Halloween-Scientist-Gift/dp/B09VVSKN4X/ref=sr_1_2?crid=3010RHLFMZ0T&keywords=data%2Banalyst%2Btshirt&qid=1685374938&sprefix=data%2Banalyst%2Btshir%2Caps%2C102&sr=8-2&customId=B07536XX75&customizationToken=MC_Assembly_1%23B07536XX75&th=1'\n",
    "\n",
    "headers = {\"User-Agent\": \"Mozilla/5.0 (Windows NT 10.0; Win64; x64) AppleWebKit/537.36 (KHTML, like Gecko) Chrome/113.0.0.0 Safari/537.36\"}\n",
    "\n",
    "page = requests.get(URL, headers=headers)\n",
    "\n",
    "soup1 = BeautifulSoup(page.content, \"html.parser\")\n",
    "\n",
    "soup2 = BeautifulSoup(soup1.prettify(), \"html.parser\") \n",
    "\n",
    "title = soup2.find(id='title').get_text()\n",
    "\n",
    "price = soup2.find(id='corePriceDisplay_desktop_feature_div').get_text()\n",
    "\n",
    "\n",
    "print(title)\n",
    "print(price)\n"
   ]
  },
  {
   "cell_type": "code",
   "execution_count": 51,
   "id": "b28b2614",
   "metadata": {},
   "outputs": [
    {
     "data": {
      "text/plain": [
       "'17.95'"
      ]
     },
     "execution_count": 51,
     "metadata": {},
     "output_type": "execute_result"
    }
   ],
   "source": [
    "price = price.strip()[1:6]\n",
    "price"
   ]
  },
  {
   "cell_type": "code",
   "execution_count": 52,
   "id": "6db133a7",
   "metadata": {},
   "outputs": [
    {
     "data": {
      "text/plain": [
       "'Funny Data Analyst Definition Halloween Data Scientist Gift T-Shirt'"
      ]
     },
     "execution_count": 52,
     "metadata": {},
     "output_type": "execute_result"
    }
   ],
   "source": [
    "title = title.strip()\n",
    "title"
   ]
  },
  {
   "cell_type": "code",
   "execution_count": 53,
   "id": "6fc2a095",
   "metadata": {},
   "outputs": [
    {
     "name": "stdout",
     "output_type": "stream",
     "text": [
      "Funny Data Analyst Definition Halloween Data Scientist Gift T-Shirt\n",
      "17.95\n"
     ]
    },
    {
     "data": {
      "text/plain": [
       "str"
      ]
     },
     "execution_count": 53,
     "metadata": {},
     "output_type": "execute_result"
    }
   ],
   "source": [
    "print(title)\n",
    "print(price)\n",
    "type(title)\n",
    "type(price)"
   ]
  },
  {
   "cell_type": "code",
   "execution_count": 72,
   "id": "8a3aa2f4",
   "metadata": {},
   "outputs": [
    {
     "name": "stdout",
     "output_type": "stream",
     "text": [
      "2023-05-29\n",
      "17:48:33\n"
     ]
    }
   ],
   "source": [
    "import datetime\n",
    "\n",
    "today = datetime.date.today()\n",
    "print(today)"
   ]
  },
  {
   "cell_type": "code",
   "execution_count": 56,
   "id": "fd3fa3da",
   "metadata": {},
   "outputs": [],
   "source": [
    "import csv\n",
    "\n",
    "header = ['Title', 'Price', 'Date']\n",
    "data = [title, price, today]\n",
    "\n",
    "with open('AmazonWebScraperDataset.csv', 'w', newline = '', encoding = 'UTF8') as f:\n",
    "    writer = csv.writer(f)\n",
    "    writer.writerow(header) \n",
    "    writer.writerow(data)"
   ]
  },
  {
   "cell_type": "code",
   "execution_count": 61,
   "id": "73a6d153",
   "metadata": {},
   "outputs": [
    {
     "name": "stdout",
     "output_type": "stream",
     "text": [
      "                                               Title  Price        Date\n",
      "0  Funny Data Analyst Definition Halloween Data S...  17.95  2023-05-29\n",
      "1  Funny Data Analyst Definition Halloween Data S...  17.95  2023-05-29\n"
     ]
    }
   ],
   "source": [
    "import pandas as pd \n",
    "\n",
    "df = pd.read_csv(r\"C:\\Users\\ktinl\\AmazonWebScraperDataset.csv\")\n",
    "\n",
    "print(df)"
   ]
  },
  {
   "cell_type": "code",
   "execution_count": 60,
   "id": "ab27c84f",
   "metadata": {},
   "outputs": [],
   "source": [
    "#appending data to the csv \n",
    "\n",
    "with open('AmazonWebScraperDataset.csv', 'a+', newline = '', encoding = 'UTF8') as f:\n",
    "    writer = csv.writer(f)\n",
    "    writer.writerow(data)"
   ]
  },
  {
   "cell_type": "code",
   "execution_count": 63,
   "id": "309456e4",
   "metadata": {},
   "outputs": [],
   "source": [
    "#automating data pull and appending to csv \n",
    "\n",
    "def check_price(): \n",
    "    URL = 'https://www.amazon.co.uk/Data-Analyst-Halloween-Scientist-Gift/dp/B09VVSKN4X/ref=sr_1_2?crid=3010RHLFMZ0T&keywords=data%2Banalyst%2Btshirt&qid=1685374938&sprefix=data%2Banalyst%2Btshir%2Caps%2C102&sr=8-2&customId=B07536XX75&customizationToken=MC_Assembly_1%23B07536XX75&th=1'\n",
    "\n",
    "    headers = {\"User-Agent\": \"Mozilla/5.0 (Windows NT 10.0; Win64; x64) AppleWebKit/537.36 (KHTML, like Gecko) Chrome/113.0.0.0 Safari/537.36\"}\n",
    "\n",
    "    page = requests.get(URL, headers=headers)\n",
    "\n",
    "    soup1 = BeautifulSoup(page.content, \"html.parser\")\n",
    "\n",
    "    soup2 = BeautifulSoup(soup1.prettify(), \"html.parser\") #makes it looks better\n",
    "\n",
    "    title = soup2.find(id='title').get_text()\n",
    "\n",
    "    price = soup2.find(id='corePriceDisplay_desktop_feature_div').get_text()\n",
    "    \n",
    "    title = title.strip()\n",
    "    \n",
    "    price = price.strip()[1:6]\n",
    "    \n",
    "    import datetime\n",
    "    \n",
    "    today = datetime.date.today()\n",
    "    \n",
    "    import csv \n",
    "\n",
    "    header = ['Title', 'Price', 'Date']\n",
    "    data = [title, price, today]\n",
    "\n",
    "    with open('AmazonWebScraperDataset.csv', 'a+', newline='', encoding='UTF8') as f:\n",
    "        writer = csv.writer(f)\n",
    "        writer.writerow(data)"
   ]
  },
  {
   "cell_type": "code",
   "execution_count": 64,
   "id": "78e6cb53",
   "metadata": {},
   "outputs": [
    {
     "ename": "KeyboardInterrupt",
     "evalue": "",
     "output_type": "error",
     "traceback": [
      "\u001b[1;31m---------------------------------------------------------------------------\u001b[0m",
      "\u001b[1;31mKeyboardInterrupt\u001b[0m                         Traceback (most recent call last)",
      "Cell \u001b[1;32mIn[64], line 5\u001b[0m\n\u001b[0;32m      3\u001b[0m \u001b[38;5;28;01mwhile\u001b[39;00m(\u001b[38;5;28;01mTrue\u001b[39;00m):\n\u001b[0;32m      4\u001b[0m     check_price()\n\u001b[1;32m----> 5\u001b[0m     \u001b[43mtime\u001b[49m\u001b[38;5;241;43m.\u001b[39;49m\u001b[43msleep\u001b[49m\u001b[43m(\u001b[49m\u001b[38;5;241;43m30\u001b[39;49m\u001b[43m)\u001b[49m\n",
      "\u001b[1;31mKeyboardInterrupt\u001b[0m: "
     ]
    }
   ],
   "source": [
    "# Runs check_price after 30 seconds and inputs data into CSV\n",
    "\n",
    "while(True):\n",
    "    check_price()\n",
    "    time.sleep(30)"
   ]
  },
  {
   "cell_type": "code",
   "execution_count": 67,
   "id": "70dc4591",
   "metadata": {},
   "outputs": [
    {
     "name": "stdout",
     "output_type": "stream",
     "text": [
      "                                                Title  Price        Date\n",
      "0   Funny Data Analyst Definition Halloween Data S...  17.95  2023-05-29\n",
      "1   Funny Data Analyst Definition Halloween Data S...  17.95  2023-05-29\n",
      "2   Funny Data Analyst Definition Halloween Data S...  17.95  2023-05-29\n",
      "3   Funny Data Analyst Definition Halloween Data S...  17.95  2023-05-29\n",
      "4   Funny Data Analyst Definition Halloween Data S...  17.95  2023-05-29\n",
      "5   Funny Data Analyst Definition Halloween Data S...  17.95  2023-05-29\n",
      "6   Funny Data Analyst Definition Halloween Data S...  17.95  2023-05-29\n",
      "7   Funny Data Analyst Definition Halloween Data S...  17.95  2023-05-29\n",
      "8   Funny Data Analyst Definition Halloween Data S...  17.95  2023-05-29\n",
      "9   Funny Data Analyst Definition Halloween Data S...  17.95  2023-05-29\n",
      "10  Funny Data Analyst Definition Halloween Data S...  17.95  2023-05-29\n",
      "11  Funny Data Analyst Definition Halloween Data S...  17.95  2023-05-29\n",
      "12  Funny Data Analyst Definition Halloween Data S...  17.95  2023-05-29\n",
      "13  Funny Data Analyst Definition Halloween Data S...  17.95  2023-05-29\n",
      "14  Funny Data Analyst Definition Halloween Data S...  17.95  2023-05-29\n",
      "15  Funny Data Analyst Definition Halloween Data S...  17.95  2023-05-29\n"
     ]
    }
   ],
   "source": [
    "import pandas as pd\n",
    "\n",
    "df = pd.read_csv(r\"C:\\Users\\ktinl\\AmazonWebScraperDataset.csv\")\n",
    "\n",
    "print(df)"
   ]
  },
  {
   "cell_type": "code",
   "execution_count": null,
   "id": "5c6620ea",
   "metadata": {},
   "outputs": [],
   "source": []
  },
  {
   "cell_type": "code",
   "execution_count": null,
   "id": "91658f46",
   "metadata": {},
   "outputs": [],
   "source": []
  },
  {
   "cell_type": "code",
   "execution_count": null,
   "id": "62b63b68",
   "metadata": {},
   "outputs": [],
   "source": []
  },
  {
   "cell_type": "code",
   "execution_count": null,
   "id": "32c1cb28",
   "metadata": {},
   "outputs": [],
   "source": []
  },
  {
   "cell_type": "code",
   "execution_count": null,
   "id": "f51c8058",
   "metadata": {},
   "outputs": [],
   "source": []
  }
 ],
 "metadata": {
  "kernelspec": {
   "display_name": "Python 3 (ipykernel)",
   "language": "python",
   "name": "python3"
  },
  "language_info": {
   "codemirror_mode": {
    "name": "ipython",
    "version": 3
   },
   "file_extension": ".py",
   "mimetype": "text/x-python",
   "name": "python",
   "nbconvert_exporter": "python",
   "pygments_lexer": "ipython3",
   "version": "3.10.9"
  }
 },
 "nbformat": 4,
 "nbformat_minor": 5
}
