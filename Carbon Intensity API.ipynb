{
 "cells": [
  {
   "cell_type": "code",
   "execution_count": 1,
   "id": "099edc9d",
   "metadata": {},
   "outputs": [
    {
     "name": "stdout",
     "output_type": "stream",
     "text": [
      "200\n"
     ]
    }
   ],
   "source": [
    "import requests\n",
    "import json \n",
    "import os \n",
    "from time import time\n",
    "from time import sleep\n",
    "\n",
    "response = requests.get(' https://api.carbonintensity.org.uk/intensity')\n",
    "headers = {'Accept:application/json'}\n",
    "print(response.status_code)\n",
    "df = {}\n",
    "data_list = []"
   ]
  },
  {
   "cell_type": "code",
   "execution_count": 2,
   "id": "31dfa127",
   "metadata": {},
   "outputs": [],
   "source": [
    "def api_runner():\n",
    "    global data_list\n",
    "    global df\n",
    "    response = requests.get(' https://api.carbonintensity.org.uk/intensity')\n",
    "    headers = {'Accept:application/json'}\n",
    "    print(response.status_code)\n",
    "        \n",
    "    df = dict(response.json())\n",
    "    data_list.append(df)"
   ]
  },
  {
   "cell_type": "code",
   "execution_count": 3,
   "id": "8e1935f6",
   "metadata": {},
   "outputs": [
    {
     "name": "stdout",
     "output_type": "stream",
     "text": [
      "200\n",
      "API Runner completed\n",
      "200\n",
      "API Runner completed\n",
      "200\n",
      "API Runner completed\n",
      "200\n",
      "API Runner completed\n",
      "200\n",
      "API Runner completed\n",
      "200\n",
      "API Runner completed\n",
      "200\n",
      "API Runner completed\n",
      "200\n",
      "API Runner completed\n",
      "200\n",
      "API Runner completed\n",
      "200\n",
      "API Runner completed\n"
     ]
    }
   ],
   "source": [
    "for i in range(10):\n",
    "    api_runner()\n",
    "    print('API Runner completed')\n",
    "    sleep(1800) #sleep for 30 minutes"
   ]
  },
  {
   "cell_type": "code",
   "execution_count": 4,
   "id": "0aae9af6",
   "metadata": {},
   "outputs": [
    {
     "data": {
      "text/plain": [
       "[{'data': [{'from': '2023-06-20T07:00Z',\n",
       "    'to': '2023-06-20T07:30Z',\n",
       "    'intensity': {'forecast': 213, 'actual': 209, 'index': 'high'}}]},\n",
       " {'data': [{'from': '2023-06-20T07:30Z',\n",
       "    'to': '2023-06-20T08:00Z',\n",
       "    'intensity': {'forecast': 213, 'actual': 206, 'index': 'high'}}]},\n",
       " {'data': [{'from': '2023-06-20T08:00Z',\n",
       "    'to': '2023-06-20T08:30Z',\n",
       "    'intensity': {'forecast': 206, 'actual': 207, 'index': 'high'}}]},\n",
       " {'data': [{'from': '2023-06-20T08:30Z',\n",
       "    'to': '2023-06-20T09:00Z',\n",
       "    'intensity': {'forecast': 206, 'actual': 203, 'index': 'high'}}]},\n",
       " {'data': [{'from': '2023-06-20T09:00Z',\n",
       "    'to': '2023-06-20T09:30Z',\n",
       "    'intensity': {'forecast': 199, 'actual': 198, 'index': 'moderate'}}]},\n",
       " {'data': [{'from': '2023-06-20T09:30Z',\n",
       "    'to': '2023-06-20T10:00Z',\n",
       "    'intensity': {'forecast': 199, 'actual': 190, 'index': 'moderate'}}]},\n",
       " {'data': [{'from': '2023-06-20T10:00Z',\n",
       "    'to': '2023-06-20T10:30Z',\n",
       "    'intensity': {'forecast': 188, 'actual': 190, 'index': 'moderate'}}]},\n",
       " {'data': [{'from': '2023-06-20T10:30Z',\n",
       "    'to': '2023-06-20T11:00Z',\n",
       "    'intensity': {'forecast': 186, 'actual': 190, 'index': 'moderate'}}]},\n",
       " {'data': [{'from': '2023-06-20T11:00Z',\n",
       "    'to': '2023-06-20T11:30Z',\n",
       "    'intensity': {'forecast': 178, 'actual': 183, 'index': 'moderate'}}]},\n",
       " {'data': [{'from': '2023-06-20T11:30Z',\n",
       "    'to': '2023-06-20T12:00Z',\n",
       "    'intensity': {'forecast': 183, 'actual': 177, 'index': 'moderate'}}]}]"
      ]
     },
     "execution_count": 4,
     "metadata": {},
     "output_type": "execute_result"
    }
   ],
   "source": [
    "data_list"
   ]
  }
 ],
 "metadata": {
  "kernelspec": {
   "display_name": "Python 3 (ipykernel)",
   "language": "python",
   "name": "python3"
  },
  "language_info": {
   "codemirror_mode": {
    "name": "ipython",
    "version": 3
   },
   "file_extension": ".py",
   "mimetype": "text/x-python",
   "name": "python",
   "nbconvert_exporter": "python",
   "pygments_lexer": "ipython3",
   "version": "3.10.9"
  }
 },
 "nbformat": 4,
 "nbformat_minor": 5
}
